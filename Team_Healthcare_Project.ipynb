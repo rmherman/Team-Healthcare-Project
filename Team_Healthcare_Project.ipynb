{
  "cells": [
    {
      "cell_type": "markdown",
      "metadata": {
        "id": "XNYseq_nT7QH"
      },
      "source": [
        "# DSCI 511: Data Acquisition and Pre-Processing <br> Term Project Phase 1: Scoping a data set\n",
        "#  **TEAM: HEALTHCARE**"
      ]
    },
    {
      "cell_type": "markdown",
      "metadata": {
        "id": "S5fXztMLT7QJ"
      },
      "source": [
        "## **Meet the Team**\n",
        "\n",
        "\n",
        "---\n",
        "\n",
        "\n",
        "### **Kylie Hall**\n",
        ">Kylie received a B.S. in Communication and a B.A. in Music Industry from the University of New Haven, though she has spent the majority of her professional career in the non-profit industry. She found that she has a great passion for data, particularly enjoying interfacing with CRM platforms. This led her to her current role of Knowledge Management Coordinator at the Robert Wood Johnson Foundation, where she works to make knowledge accessible, equitable, and accurate across the Foundation. Aspiring to be a database administrator or data analyst, she began pursuing her Masters in Information Systems at Drexel University and has especially enjoyed learning SQL. She has a beginner level understanding of Python but would like to grow those skills and connect them to real-world application.\n",
        "\n",
        "\n",
        "### **Rachael Herman**\n",
        ">Rachael earned a B.S. in Middle School Math and Science Education and has spent the majority of her professional career as a science teacher. As she gained experience teaching basic science concepts, she also developed skills in working with datasets and thinking scientifically. Her other strengths include a foundational knowledge of data analysis and SQL, strong organizational abilities, and an action-oriented mindset. Moving forward, she aims to improve her Python skills to work with data in a variety of formats and reformat it to answer pressing questions and make lasting impacts.\n",
        "\n",
        "\n",
        "### **Jordan Land**\n",
        ">Jordan earned a B.S. in Business Management from Bloomsburg University of Pennsylvania, followed by completing a Master's of Business Administration at West Chester University. She identifies her strengths with using data to move clinical programs forward, problem solving and resource management. The domain that she identifies with is healthcare so any dataset that aligns with improving health outcomes for patients and families is of interest. Currently, she has little experience with unstructured data and coding and would like to increase these skills to expand opportunities to utilize data to make data more accessible in the healthcare setting.\n",
        "\n",
        "### **Virginia Muthard**\n",
        ">Virginia earned a B.S. in Bioengineering from The Pennsylvania State University, followed by completing her graduate work in Prosthetics and Orthotics with the Northwestern University Feinberg School of Medicine's P&O Center. She identified her strengths as organization, time management, and troubleshooting, with an eye for identifying process in a problem. The domains she identifies with are healthcare and education, so a dataset that seeks to present information regarding the intersection of these (directly or indirectly) was of interest. With a little experience in coding, she would like to grow skill in the ease of using functions to make coding more efficient."
      ]
    },
    {
      "cell_type": "markdown",
      "metadata": {
        "id": "LDLkbNB9T7QK"
      },
      "source": [
        "## **Our Topic**\n",
        "\n",
        "\n",
        "---\n",
        "\n",
        "\n",
        "\n",
        "With each team member having a stake (personal or professional) in healthcare, it was fairly easy for the team to decide on a healthcare-focused topic. A little discussion among the group found a common concern was healthcare disparities in the United States. We thought this could be an insightful topic to look at relational data for identifying trends&mdash;trends that could be used to incorporate changes at the state or community level. The data-medium we will plan to work with are two separate datasets--one on leading causes of mortality across the US over a span of years, and another on tobacco use across the US over a span of years.\n"
      ]
    },
    {
      "cell_type": "markdown",
      "source": [
        "## **Project Discussion**\n",
        "\n",
        "\n",
        "---\n",
        "\n",
        "\n",
        "Our goal with this dataset is to create a more concise set of data that can be used to analyze relational information about mortality and tobacco use. To begin to identify the data, a Google search led us to the CDC's API dataset page. Much of this data relies on U.S. census data (self-report or through the corresponding government agency). We were able to view data for mortality and tobacco use and explore the characteristics of the data. Each report had information about the dataset, as well as the use restrictions:\n",
        "\n",
        "*   National Center for Health Statistics. NCHS - Leading Causes of Death: United States. Date accessed 25 October 2024. Available from https://data.cdc.gov/d/bi63-dtpu. [Public Domain US Government: https://www.usa.gov/government-copyright}]\n",
        "*   Center for Disease Control. CDC BRFSS - Behavioral Risk Factor Data: Tobacco Use. Date accessed 25 October 2024. Available from https://chronicdata.cdc.gov/Survey-Data/Behavioral-Risk-Factor-Data-Tobacco-Use-2011-to-pr/wsas-xwh5. [Open Data Common Attributions License: http://opendatacommons.org/licenses/by/1.0/]\n",
        "\n",
        "Our plan is to collect the available data from several years in order to construct a dataset. We will be able to preprocess the data to focus down on the desired information (e.g. states, years, types of tobacco use, leading causes of death, etc.).  \n",
        "\n",
        "This dataset could then be used by researchers and public health officials to determine trends in the data. Identifying these trends could lead to policy change or movements to address the concerns if any arise. For example, if a location has a high incidence of tobacco use (specific type or in total) and also has a higher incidence of certain causes of death, then this trend could be explored for any correlation. If one is found, this information could be used to focus a campaign targeting community health education or legislature to restrict certain products (e.g. types of tobacco). This data is limited, though, as some information is based on self-report/identifcation (either by the subject at some point or by another party). There may also be limitations if exploring geographical information, as the location reported at mortality may not be the location where someone spent most of their life (and therefore may not represent a correlation to that area).  \n",
        "\n",
        "One potential hurdle that we have identified is that the APIs for both of the datasets have a limit of 1,000 rows when pulling the data. In order to do a thorough analysis, we need to be able to access every row of the data. We did some preliminary research on how to mitigate this issue and found that we can utilize parameters when connecting to both API endpoints, allowing us to access all rows (both endpoints utilize SODA 2.1). We may also determine a specific set of years to target which would reduce the number of records we would need to access, leading us to use the $where parameter. This data was created from death certificates filed in the United States, as well as results of CDC's Behavioral Risk Factor Surveillance System (BRFSS), which is a monthly survey conducted over the phone. Currently, the data is publicly accessible, so there are no legal barriers for us to be able to acquire this data."
      ],
      "metadata": {
        "id": "3iInrMfLvwNO"
      }
    },
    {
      "cell_type": "markdown",
      "source": [
        "## **Data Sample**\n",
        "\n",
        "\n",
        "---\n",
        "\n",
        "Below is a sample of the data we will be collecting to form our dataset."
      ],
      "metadata": {
        "id": "hIemW4ZUyGzz"
      }
    },
    {
      "cell_type": "code",
      "source": [
        "import requests\n",
        "from pprint import pprint"
      ],
      "metadata": {
        "id": "P8jxciFSJ6i5"
      },
      "execution_count": null,
      "outputs": []
    },
    {
      "cell_type": "code",
      "execution_count": null,
      "metadata": {
        "id": "WcUc366VT7QK",
        "colab": {
          "base_uri": "https://localhost:8080/"
        },
        "outputId": "724b1a7d-2fef-46b9-cdaa-052fa0843e0f"
      },
      "outputs": [
        {
          "output_type": "stream",
          "name": "stdout",
          "text": [
            "[{'_113_cause_name': 'Nephritis, nephrotic syndrome and nephrosis '\n",
            "                     '(N00-N07,N17-N19,N25-N27)',\n",
            "  'aadr': '2.6',\n",
            "  'cause_name': 'Kidney disease',\n",
            "  'deaths': '21',\n",
            "  'state': 'Vermont',\n",
            "  'year': '2012'},\n",
            " {'_113_cause_name': 'Nephritis, nephrotic syndrome and nephrosis '\n",
            "                     '(N00-N07,N17-N19,N25-N27)',\n",
            "  'aadr': '3.3',\n",
            "  'cause_name': 'Kidney disease',\n",
            "  'deaths': '29',\n",
            "  'state': 'Vermont',\n",
            "  'year': '2017'},\n",
            " {'_113_cause_name': 'Nephritis, nephrotic syndrome and nephrosis '\n",
            "                     '(N00-N07,N17-N19,N25-N27)',\n",
            "  'aadr': '3.7',\n",
            "  'cause_name': 'Kidney disease',\n",
            "  'deaths': '30',\n",
            "  'state': 'Vermont',\n",
            "  'year': '2016'},\n",
            " {'_113_cause_name': 'Nephritis, nephrotic syndrome and nephrosis '\n",
            "                     '(N00-N07,N17-N19,N25-N27)',\n",
            "  'aadr': '3.8',\n",
            "  'cause_name': 'Kidney disease',\n",
            "  'deaths': '30',\n",
            "  'state': 'Vermont',\n",
            "  'year': '2013'},\n",
            " {'_113_cause_name': 'Intentional self-harm (suicide) (*U03,X60-X84,Y87.0)',\n",
            "  'aadr': '3.8',\n",
            "  'cause_name': 'Suicide',\n",
            "  'deaths': '23',\n",
            "  'state': 'District of Columbia',\n",
            "  'year': '2000'}]\n"
          ]
        }
      ],
      "source": [
        "# This data represents the leading causes of death in each state across a set of years [1999 to present] (Source: CDC, public use)\n",
        "\n",
        "url1 = 'https://data.cdc.gov/resource/bi63-dtpu.json'\n",
        "\n",
        "response1 = requests.get(url1)\n",
        "\n",
        "death_data = response1.json()\n",
        "\n",
        "pprint(death_data[:5])"
      ]
    },
    {
      "cell_type": "code",
      "source": [
        "# This data represents the tobacco use in each state across a set of years [2011 to present] (Source: CDC, public use)\n",
        "\n",
        "url2 = 'https://data.cdc.gov/resource/wsas-xwh5.json'\n",
        "\n",
        "response2 = requests.get(url2)\n",
        "\n",
        "tobacco_data = response2.json()\n",
        "\n",
        "pprint(tobacco_data[:5])"
      ],
      "metadata": {
        "colab": {
          "base_uri": "https://localhost:8080/"
        },
        "id": "c7lssCGyKG9T",
        "outputId": "20b09800-12d6-4e4d-ec22-239bb80b1805"
      },
      "execution_count": null,
      "outputs": [
        {
          "output_type": "stream",
          "name": "stdout",
          "text": [
            "[{':@computed_region_hjsp_umg2': '29',\n",
            "  'age': 'All Ages',\n",
            "  'data_value': '7.5',\n",
            "  'data_value_std_err': '0.5',\n",
            "  'data_value_type': 'Percentage',\n",
            "  'data_value_unit': '%',\n",
            "  'datasource': 'BRFSS',\n",
            "  'displayorder': '71',\n",
            "  'education': 'All Grades',\n",
            "  'gender': 'Overall',\n",
            "  'geolocation': {'human_address': '{\"address\": \"\", \"city\": \"\", \"state\": \"\", '\n",
            "                                   '\"zip\": \"\"}',\n",
            "                  'latitude': '32.84057112200048',\n",
            "                  'longitude': '-86.63186076199969'},\n",
            "  'high_confidence_limit': '8.6',\n",
            "  'locationabbr': 'AL',\n",
            "  'locationdesc': 'Alabama',\n",
            "  'low_confidence_limit': '6.4',\n",
            "  'measuredesc': 'Current Use',\n",
            "  'measureid': '177SCU',\n",
            "  'race': 'White',\n",
            "  'sample_size': '4616',\n",
            "  'stratificationid1': '1GEN',\n",
            "  'stratificationid2': '8AGE',\n",
            "  'stratificationid3': '5RAC',\n",
            "  'stratificationid4': '6EDU',\n",
            "  'submeasureid': 'BRF71',\n",
            "  'topicdesc': 'Smokeless Tobacco Use (Adults)',\n",
            "  'topicid': '150BEH',\n",
            "  'topictype': 'Tobacco Use – Survey Data',\n",
            "  'topictypeid': 'BEH',\n",
            "  'year': '2019'},\n",
            " {':@computed_region_hjsp_umg2': '29',\n",
            "  'age': 'All Ages',\n",
            "  'data_value': '51.8',\n",
            "  'data_value_std_err': '1.7',\n",
            "  'data_value_type': 'Percentage',\n",
            "  'data_value_unit': '%',\n",
            "  'datasource': 'BRFSS',\n",
            "  'displayorder': '7',\n",
            "  'education': 'All Grades',\n",
            "  'gender': 'Female',\n",
            "  'geolocation': {'human_address': '{\"address\": \"\", \"city\": \"\", \"state\": \"\", '\n",
            "                                   '\"zip\": \"\"}',\n",
            "                  'latitude': '32.84057112200048',\n",
            "                  'longitude': '-86.63186076199969'},\n",
            "  'high_confidence_limit': '55.2',\n",
            "  'locationabbr': 'AL',\n",
            "  'locationdesc': 'Alabama',\n",
            "  'low_confidence_limit': '48.4',\n",
            "  'measuredesc': 'Percent of Former Smokers Among Ever Smokers',\n",
            "  'measureid': '169QUP',\n",
            "  'race': 'All Races',\n",
            "  'sample_size': '1495',\n",
            "  'stratificationid1': '3GEN',\n",
            "  'stratificationid2': '8AGE',\n",
            "  'stratificationid3': '6RAC',\n",
            "  'stratificationid4': '6EDU',\n",
            "  'submeasureid': 'BRF07',\n",
            "  'topicdesc': 'Cessation (Adults)',\n",
            "  'topicid': '101BEH',\n",
            "  'topictype': 'Tobacco Use – Survey Data',\n",
            "  'topictypeid': 'BEH',\n",
            "  'year': '2019'},\n",
            " {':@computed_region_hjsp_umg2': '29',\n",
            "  'age': 'All Ages',\n",
            "  'data_value': '38.2',\n",
            "  'data_value_std_err': '3.5',\n",
            "  'data_value_type': 'Percentage',\n",
            "  'data_value_unit': '%',\n",
            "  'datasource': 'BRFSS',\n",
            "  'displayorder': '79',\n",
            "  'education': 'All Grades',\n",
            "  'gender': 'Male',\n",
            "  'geolocation': {'human_address': '{\"address\": \"\", \"city\": \"\", \"state\": \"\", '\n",
            "                                   '\"zip\": \"\"}',\n",
            "                  'latitude': '32.84057112200048',\n",
            "                  'longitude': '-86.63186076199969'},\n",
            "  'high_confidence_limit': '45.1',\n",
            "  'locationabbr': 'AL',\n",
            "  'locationdesc': 'Alabama',\n",
            "  'low_confidence_limit': '31.3',\n",
            "  'measuredesc': 'Frequency of Use',\n",
            "  'measureid': '178SFU',\n",
            "  'race': 'All Races',\n",
            "  'response': 'Some Days',\n",
            "  'sample_size': '278',\n",
            "  'stratificationid1': '2GEN',\n",
            "  'stratificationid2': '8AGE',\n",
            "  'stratificationid3': '6RAC',\n",
            "  'stratificationid4': '6EDU',\n",
            "  'submeasureid': 'BRF79',\n",
            "  'topicdesc': 'Smokeless Tobacco Use (Adults)',\n",
            "  'topicid': '150BEH',\n",
            "  'topictype': 'Tobacco Use – Survey Data',\n",
            "  'topictypeid': 'BEH',\n",
            "  'year': '2019'},\n",
            " {':@computed_region_hjsp_umg2': '29',\n",
            "  'age': 'All Ages',\n",
            "  'data_value_footnote': 'Data in these cells have been suppressed because of '\n",
            "                         'a small sample size',\n",
            "  'data_value_footnote_symbol': '*',\n",
            "  'data_value_type': 'Percentage',\n",
            "  'data_value_unit': '%',\n",
            "  'datasource': 'BRFSS',\n",
            "  'displayorder': '71',\n",
            "  'education': 'All Grades',\n",
            "  'gender': 'Overall',\n",
            "  'geolocation': {'human_address': '{\"address\": \"\", \"city\": \"\", \"state\": \"\", '\n",
            "                                   '\"zip\": \"\"}',\n",
            "                  'latitude': '32.84057112200048',\n",
            "                  'longitude': '-86.63186076199969'},\n",
            "  'locationabbr': 'AL',\n",
            "  'locationdesc': 'Alabama',\n",
            "  'measuredesc': 'Current Use',\n",
            "  'measureid': '177SCU',\n",
            "  'race': 'Asian/Pacific Islander',\n",
            "  'stratificationid1': '1GEN',\n",
            "  'stratificationid2': '8AGE',\n",
            "  'stratificationid3': '3RAC',\n",
            "  'stratificationid4': '6EDU',\n",
            "  'submeasureid': 'BRF71',\n",
            "  'topicdesc': 'Smokeless Tobacco Use (Adults)',\n",
            "  'topicid': '150BEH',\n",
            "  'topictype': 'Tobacco Use – Survey Data',\n",
            "  'topictypeid': 'BEH',\n",
            "  'year': '2019'},\n",
            " {':@computed_region_hjsp_umg2': '29',\n",
            "  'age': 'All Ages',\n",
            "  'data_value': '22.4',\n",
            "  'data_value_std_err': '1.1',\n",
            "  'data_value_type': 'Percentage',\n",
            "  'data_value_unit': '%',\n",
            "  'datasource': 'BRFSS',\n",
            "  'displayorder': '27',\n",
            "  'education': 'All Grades',\n",
            "  'gender': 'Male',\n",
            "  'geolocation': {'human_address': '{\"address\": \"\", \"city\": \"\", \"state\": \"\", '\n",
            "                                   '\"zip\": \"\"}',\n",
            "                  'latitude': '32.84057112200048',\n",
            "                  'longitude': '-86.63186076199969'},\n",
            "  'high_confidence_limit': '24.5',\n",
            "  'locationabbr': 'AL',\n",
            "  'locationdesc': 'Alabama',\n",
            "  'low_confidence_limit': '20.3',\n",
            "  'measuredesc': 'Smoking Status',\n",
            "  'measureid': '165SSA',\n",
            "  'race': 'All Races',\n",
            "  'response': 'Current',\n",
            "  'sample_size': '2728',\n",
            "  'stratificationid1': '2GEN',\n",
            "  'stratificationid2': '8AGE',\n",
            "  'stratificationid3': '6RAC',\n",
            "  'stratificationid4': '6EDU',\n",
            "  'submeasureid': 'BRF27',\n",
            "  'topicdesc': 'Cigarette Use (Adults)',\n",
            "  'topicid': '100BEH',\n",
            "  'topictype': 'Tobacco Use – Survey Data',\n",
            "  'topictypeid': 'BEH',\n",
            "  'year': '2019'}]\n"
          ]
        }
      ]
    },
    {
      "cell_type": "code",
      "source": [],
      "metadata": {
        "id": "vYWz1OTuLNcn"
      },
      "execution_count": null,
      "outputs": []
    }
  ],
  "metadata": {
    "kernelspec": {
      "display_name": "Python 3",
      "language": "python",
      "name": "python3"
    },
    "language_info": {
      "codemirror_mode": {
        "name": "ipython",
        "version": 3
      },
      "file_extension": ".py",
      "mimetype": "text/x-python",
      "name": "python",
      "nbconvert_exporter": "python",
      "pygments_lexer": "ipython3",
      "version": "3.7.0"
    },
    "colab": {
      "provenance": []
    }
  },
  "nbformat": 4,
  "nbformat_minor": 0
}